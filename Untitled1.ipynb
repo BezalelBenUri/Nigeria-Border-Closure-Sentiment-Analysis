{
 "cells": [
  {
   "cell_type": "code",
   "execution_count": 1,
   "id": "ab7a2ca6-476f-4f9a-83b6-da7812209738",
   "metadata": {},
   "outputs": [
    {
     "name": "stdout",
     "output_type": "stream",
     "text": [
      "1469607064771178499 2021-12-10 21:56:42 -1200 <NaijameritNG> Lagos State Government- Request For Expressions Of Interest For The Selection Of Consultant To Carry Out Preparation Of Isheri North Flood Mitigation Plan Study  https://t.co/8dmIIqiIMR\n",
      "1469255601091973126 2021-12-09 22:40:07 -1200 <ng_business> TENDERS: Lagos State Government- Request For Expressions Of Interest For The Selection Of Consultant To Carry Out Preparation Of Isheri North Flood Mitigation Plan Study  https://t.co/X6B779ALQV\n",
      "1314030419390664705 2020-10-07 14:30:40 -1200 <OlalekanAkinye9> @jidesanwoolu What safety measures did you put in place at Isheri North year in year out, after residents are and continue to be ravaged by flood after the opening of Oyan Dam?\n",
      "1313243670871670784 2020-10-05 10:24:24 -1200 <OlalekanAkinye9> @jidesanwoolu What safety measures did you put in place at Isheri North year in year out, after residents are and continue to be ravaged by flood after the opening of Oyan Dam?\n",
      "1277177670384705541 2020-06-27 21:51:00 -1200 <walebojuwoye> IF YOU ARE IN FLOOD AFFECTED AREAS.  Places like many parts of Ikoyi, Victoria Island V.I, Dolphin Estate and Oworoshoki dey flood    Ogun River rise   affect areas lMagodo, Owode Oniri, Isheri North GRA . PLEASE MAKE NA FORWARD PICTURES\n",
      "1277171457412534273 2020-06-27 21:26:18 -1200 <walebojuwoye> IF YOU ARE IN FLOOR AFFECTED AREAS.  Places like many parts of Ikoyi, Victoria Island V.I, Dolphin Estate and Oworoshoki dey flood    Ogun River rise   affect areas lMagodo, Owode Oniri, Isheri North GRA . PLEASE MAKE NA FORWARD PICTURES\n",
      "1224430065200615425 2020-02-03 08:30:51 -1200 <NaMeBeDre> @dabiodunMFR @bbcworldservice Your excellency, arguably the closest part of Ogun to Lagos where people live is Isheri north. It doesn't ported well for the state if flood keeps sacking this community year after year.  Please do something meaningful\n",
      "1204068456737497090 2019-12-09 04:01:05 -1200 <BusinessDayNg> Stopping the floods at Isheri North   https://t.co/lut6giZJmE\n",
      "1195915482332663808 2019-11-16 16:04:04 -1200 <IndependentNGR> Lamentations Of Isheri North Residents Over Flood  https://t.co/wpRGWxtqID  https://t.co/s4QdE1HmYs\n",
      "1194483825486770176 2019-11-12 17:15:11 -1200 <daily_trust> Communities in Isheri, in Lagos and Ogun states, yesterday cried out over what they described as the destruction of their homes as a result of recent floods which displaced residents and property owners in Isheri North Estate, Riverview Read more:  https://t.co/kjYIdTo4l0\n",
      "1190588611445633024 2019-11-01 23:16:59 -1200 <sureyarns> Flood: Isheri residents berate Sanwo-Olu as one dies, Following the flooding of homes in Isheri North in Lagos State, residents have flayed the state Governor, Babajide Sanwo-Olu, over alleged abandonment.,  https://t.co/83Z8wRIyzW,\n",
      "1188777327368515584 2019-10-27 23:19:35 -1200 <wunmmypopson> 1. @dabiodunMFR Your Excellency Sir, Within a few days of flooding at Isheri North, you were on ground to assuage the pains of the victims. Six weeks gone by with the Denro-Ishashi bridge taken over by flood causing untold hardship to children and adults alike, we still expect  https://t.co/hnhVXHGqI2\n",
      "1187694085844414464 2019-10-24 23:35:11 -1200 <Jtahfoundation> Don’t Abandon Us In This Flood Water – Residents Of Isheri North Beg Sanwo-Olu  https://t.co/0fkpto7Ho7\n",
      "1187475049168531464 2019-10-24 09:04:48 -1200 <Agent471989> 'Don't abandon us in this flood' - residents of Isheri north beg Sanwo-Olu - TheCable  https://t.co/1TLWDeCarl\n",
      "1187465021380382721 2019-10-24 08:24:57 -1200 <thecableng> ‘Don’t abandon us in this flood’ — residents of Isheri north beg @jidesanwoolu  https://t.co/Bqkzfz6mMS via @thecableng\n",
      "1187464981861679104 2019-10-24 08:24:48 -1200 <thecableng> ‘Don’t abandon us in this flood’ — residents of Isheri north beg Sanwo-Olu  https://t.co/Bqkzfz6mMS via @thecableng  https://t.co/hK19YipGK5\n",
      "1187213849264578560 2019-10-23 15:46:53 -1200 <1stnewsng> Gov Abiodun says Isheri-North flood is beyond Ogun govt  https://t.co/nFNr6ON1xE  https://t.co/ikkvErUrZm\n",
      "1187043825971277825 2019-10-23 04:31:16 -1200 <AdeOlaHimself> @OGSGofficial Governor, Prince @dabiodunMFR earlier today declared a state of emergency on flood-ravaged Isheri North on its border with @followlasg by the Lagos-Ibadan Expressway, and other affected areas in the State.  https://t.co/y2jAUIloto\n",
      "1187034979282362369 2019-10-23 03:56:07 -1200 <LOKAkerele> @jidesanwoolu @drobafemihamzat @followlasg Lagos state government attention needed at Isheri North. Flood has sacked people from their homes. Ogun state governor has visited the Ogun part of OPIC. His deputy has done so too. Let's be more sensitive to the plight of Lagosians\n",
      "1186973596113080320 2019-10-22 23:52:12 -1200 <tonnyshallom> MIKANO FACTORY OVERPOWERED BY FLOOD!  I personally took this shots while on the long bridge yesterday after work. The water level is crazy... Many people can't access their homes around Opic/Isheri North and Warewa axis again ooo!  -TOS\n",
      "1186613969689206784 2019-10-22 00:03:11 -1200 <ChocBerry_> Flood has chased us from isheri north ...we don’t know when it will dry\n",
      "1186408681530953728 2019-10-21 10:27:26 -1200 <ABganasquare> @jidesanwoolu Your H.E Sir, how far and well has response gone to Isheri North GRA flood disaster? I believe your attention has been drawn to that. Other relevant authorities too, such as @moelagos and @FMEnvng have been notified by @KayodeOkikiolu of @channelstv\n",
      "1186234614425276416 2019-10-20 22:55:45 -1200 <gistnigeriatv> Aftermath of the heavy downpour and resultant floods in Isheri North, Lagos 😢  https://t.co/2iBw2Y23nE\n",
      "1185960834532626434 2019-10-20 04:47:51 -1200 <marcdedawods> The recent flood has ravaged Isheri North GRA Ikeja Estates. Calling on both govts of Lagos and Ogun to come to our aid. @jimidisu @THEBEAT999FM @lindaikeji @lindaikeji @cnnbrk @jidesanwoolu  https://t.co/nt7PxqO254\n",
      "1185905118765637632 2019-10-20 01:06:28 -1200 <coretvnewsng> Residents use canoes as flood takes over Lagos community  Residents of Isheri North Government Reserved Area, also known as the Isheri North Residential Scheme, Lagos State, are currently lamenting the flooding of the area, located along the   https://t.co/LNpTB7vUmk  https://t.co/Yq8bDbYXP4\n",
      "1185603903481622528 2019-10-19 05:09:32 -1200 <KayodeOkikiolu> There's a flood disaster in Isheri North GRA, Lagos.  The people feel helpless and it might be getting even worse.  Can they get some help, maybe?  Thank You @Sadiya_farouq @FMEnvng @moelagos  https://t.co/n7u5Cm5kHw\n",
      "1185150496971087872 2019-10-17 23:07:52 -1200 <Adebayo___> @DapoAbiodunfan Good morning sir  Please sir we're battling with flood at Opic and the MTR people we spoke to at least let us pass the estate said no one Mr Bolaji, a family is trapped in Ayilara street Opic isheri North please we need help urgently\n",
      "1184023112423235584 2019-10-14 20:28:02 -1200 <solarogers> Communities like Akute, Ishashi, Denro, Kara, Ojodu, Isheri North, OPIC share a common boundary with the Ogun River and they have been \"permanently flooded\" for weeks now, NO trends on SM. But it's Lekki that is at the recieving end of all those distasteful flood jokes  https://t.co/uS5ZJ132zh\n",
      "1183088894268624896 2019-10-12 06:35:47 -1200 <doctorgenny> Welldone good job.. Floods too much in Isheri north\n",
      "[!] No more data! Scraping will stop now.\n",
      "found 0 deleted tweets in this search.\n"
     ]
    }
   ],
   "source": [
    "import nest_asyncio\n",
    "\n",
    "import twint\n",
    "\n",
    "\n",
    "nest_asyncio.apply()\n",
    "\n",
    "\n",
    "\n",
    "c = twint.Config()\n",
    "c.Search = \"Flood isheri north\"\n",
    "c.Since = '2019-08-01'\n",
    "c.Limit = 7000000\n",
    "c.Pandas = True\n",
    "twint.run.Search(c)"
   ]
  }
 ],
 "metadata": {
  "kernelspec": {
   "display_name": "Scrap_Lab",
   "language": "python",
   "name": "scrap_lab"
  },
  "language_info": {
   "codemirror_mode": {
    "name": "ipython",
    "version": 3
   },
   "file_extension": ".py",
   "mimetype": "text/x-python",
   "name": "python",
   "nbconvert_exporter": "python",
   "pygments_lexer": "ipython3",
   "version": "3.9.7"
  }
 },
 "nbformat": 4,
 "nbformat_minor": 5
}
