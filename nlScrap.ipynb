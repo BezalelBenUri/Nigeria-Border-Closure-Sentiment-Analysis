{
 "cells": [
  {
   "cell_type": "code",
   "execution_count": 3,
   "id": "235e1fcb-b961-455f-a5e4-d6bd96ea02b7",
   "metadata": {},
   "outputs": [],
   "source": [
    "import pandas as pd\n",
    "\n",
    "from bs4 import BeautifulSoup\n",
    "import requests\n",
    "\n",
    "A = []\n",
    "B = []\n",
    "C = []\n",
    "\n",
    "for i in range(0, 20):\n",
    "    url = f'https://www.nairaland.com/search/nigeria%20border%20closure/0/0/0/{i}'\n",
    "\n",
    "\n",
    "\n",
    "    page =  requests.get(url)\n",
    "\n",
    "\n",
    "    soup = BeautifulSoup(page.content, 'lxml')\n",
    "\n",
    "    for dc in soup(['blockquote']):\n",
    "            dc.decompose()\n",
    "    for s in soup.select('script'):\n",
    "        s.extract()\n",
    "\n",
    "    list1 = soup.find_all('td', {'class' : ['bold l pu', 'l w pd']})\n",
    "    #list2 = soup.find_all('td', class_ = 'l w pd')\n",
    "\n",
    "    \n",
    "\n",
    "\n",
    "    for i in list1:\n",
    "        date = i.find('span', class_ = 's')\n",
    "        try:\n",
    "            my_date = date.text\n",
    "        except:\n",
    "            my_date = None\n",
    "        user = i.find('a', class_ = 'user')\n",
    "        try:\n",
    "            my_user = user.text\n",
    "        except:\n",
    "            my_user = None\n",
    "        comment = i.find('div', class_ = 'narrow')\n",
    "        try:\n",
    "            my_comment = comment.text\n",
    "        except:\n",
    "            my_comment = None\n",
    "        details = [date, user, comment]\n",
    "\n",
    "        A.append(my_date)\n",
    "        B.append(my_user)\n",
    "        C.append(my_comment)\n",
    "\n",
    "df = pd.DataFrame({'Date': A,\n",
    "                       'User': B,\n",
    "                       'Comment': C})\n",
    "\n",
    "\n",
    "df.to_csv('Nairaland.csv') "
   ]
  },
  {
   "cell_type": "code",
   "execution_count": 1,
   "id": "c2196ba3-c756-4854-ba82-ce42a601c44f",
   "metadata": {},
   "outputs": [
    {
     "name": "stdout",
     "output_type": "stream",
     "text": [
      "<Response [200]>\n"
     ]
    }
   ],
   "source": [
    "import pandas as pd\n",
    "\n",
    "from bs4 import BeautifulSoup\n",
    "import requests\n",
    "\n",
    "url = 'https://www.nairaland.com/search/nigeria%20border%20closure/0/0/0/3'\n",
    "page =  requests.get(url)\n",
    "print(page)"
   ]
  },
  {
   "cell_type": "code",
   "execution_count": 2,
   "id": "2b57b292-e546-4056-879a-1986756c6faa",
   "metadata": {},
   "outputs": [],
   "source": [
    "soup = BeautifulSoup(page.content, 'lxml')\n",
    "\n",
    "for dc in soup(['blockquote']):\n",
    "        dc.decompose()\n",
    "for s in soup.select('script'):\n",
    "    s.extract()\n",
    "\n",
    "list1 = soup.find_all('td', {'class' : ['bold l pu', 'l w pd']})\n",
    "#list2 = soup.find_all('td', class_ = 'l w pd')\n",
    "\n",
    "A = []\n",
    "B = []\n",
    "C = []\n",
    "\n",
    "        \n",
    "for i in list1:\n",
    "    date = i.find('span', class_ = 's')\n",
    "    user = i.find('a', class_ = 'user')\n",
    "    comment = i.find('div', class_ = 'narrow')\n",
    "    details = [date, user, comment]\n",
    "    \n",
    "    A.append(date)\n",
    "    B.append(user)\n",
    "    C.append(comment)\n",
    "\n",
    "    df = pd.DataFrame({'Date': A,\n",
    "                               'User': B,\n",
    "                               'Comment': C})\n",
    "\n",
    "\n",
    "df.to_csv('Nairaland.csv') "
   ]
  },
  {
   "cell_type": "code",
   "execution_count": null,
   "id": "cc84b703-7bc3-43ac-bddd-6931f8acf71a",
   "metadata": {},
   "outputs": [],
   "source": []
  }
 ],
 "metadata": {
  "kernelspec": {
   "display_name": "Scrap_Lab",
   "language": "python",
   "name": "scrap_lab"
  },
  "language_info": {
   "codemirror_mode": {
    "name": "ipython",
    "version": 3
   },
   "file_extension": ".py",
   "mimetype": "text/x-python",
   "name": "python",
   "nbconvert_exporter": "python",
   "pygments_lexer": "ipython3",
   "version": "3.9.7"
  }
 },
 "nbformat": 4,
 "nbformat_minor": 5
}
